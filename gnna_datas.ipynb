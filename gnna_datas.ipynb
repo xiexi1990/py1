{
 "cells": [
  {
   "cell_type": "code",
   "execution_count": 6,
   "metadata": {},
   "outputs": [
    {
     "name": "stderr",
     "output_type": "stream",
     "text": [
      "Number of threads: 14\n",
      "Number of vertices: 1889542\n",
      "Number of edges: 3946402\n",
      "Generating a permutation...\n",
      "Runtime for permutation generation [sec]: 0.198424\n",
      "Number of threads: 14\n",
      "Number of vertices: 403394\n",
      "Number of edges: 9068096\n",
      "Generating a permutation...\n",
      "Runtime for permutation generation [sec]: 0.155202\n",
      "Number of threads: 14\n",
      "Number of vertices: 50515\n",
      "Number of edges: 1638180\n",
      "Generating a permutation...\n",
      "Runtime for permutation generation [sec]: 0.0213153\n",
      "Number of threads: 14\n",
      "Number of vertices: 334925\n",
      "Number of edges: 1686092\n",
      "Generating a permutation...\n",
      "Runtime for permutation generation [sec]: 0.0388215\n"
     ]
    }
   ],
   "source": [
    "from pathlib import Path\n",
    "import numpy as np\n",
    "from scipy.sparse import coo_matrix\n",
    "import torch\n",
    "import rabbit\n",
    "\n",
    "\n",
    "fileset = Path('/home/xiexi/py_projects/OSDI21_AE/osdi-ae-graphs').rglob('*.npz')\n",
    "for file in fileset:\n",
    "    graph_obj = np.load(file)\n",
    "    src_li = graph_obj['src_li']\n",
    "    dst_li = graph_obj['dst_li']\n",
    "    num_nodes = graph_obj['num_nodes']\n",
    "    num_edges = len(src_li)\n",
    "    edge_index = np.stack([src_li, dst_li])\n",
    "    val = [1] * num_edges\n",
    "    # scipy_coo = coo_matrix((val, edge_index), shape=(num_nodes, num_nodes))\n",
    "    # scipy_csr = scipy_coo.tocsr()\n",
    "\n",
    "    # with open('./graphs/' + file.stem + '.config','w') as conf:\n",
    "    #     conf.write(str(num_nodes) + \" \" + str(num_edges))\n",
    "    # scipy_csr.indptr.astype(np.float32).tofile('./graphs/' + file.stem + '.graph.ptrdump')\n",
    "    # scipy_csr.indices.astype(np.float32).tofile('./graphs/' + file.stem + '.graph.edgedump')\n",
    "\n",
    "    rabbit_edge_index = rabbit.reorder(torch.IntTensor(edge_index))\n",
    "\n",
    "    rabbit_coo = coo_matrix((val, rabbit_edge_index), shape=(num_nodes, num_nodes))\n",
    "    rabbit_csr = rabbit_coo.tocsr()\n",
    "\n",
    "    with open('./graphs/rabbit_' + file.stem + '.config','w') as conf:\n",
    "        conf.write(str(num_nodes) + \" \" + str(num_edges))\n",
    "    rabbit_csr.indptr.astype(np.float32).tofile('./graphs/rabbit_' + file.stem + '.graph.ptrdump')\n",
    "    rabbit_csr.indices.astype(np.float32).tofile('./graphs/rabbit_' + file.stem + '.graph.edgedump')\n",
    "    \n",
    "\n"
   ]
  }
 ],
 "metadata": {
  "kernelspec": {
   "display_name": "base",
   "language": "python",
   "name": "python3"
  },
  "language_info": {
   "codemirror_mode": {
    "name": "ipython",
    "version": 3
   },
   "file_extension": ".py",
   "mimetype": "text/x-python",
   "name": "python",
   "nbconvert_exporter": "python",
   "pygments_lexer": "ipython3",
   "version": "3.9.13"
  },
  "orig_nbformat": 4,
  "vscode": {
   "interpreter": {
    "hash": "469243ab20407e57558689006f6d4eae7f42320abb998cfdabf79e61ec7f00ef"
   }
  }
 },
 "nbformat": 4,
 "nbformat_minor": 2
}
