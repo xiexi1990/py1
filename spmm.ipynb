{
 "cells": [
  {
   "cell_type": "code",
   "execution_count": 10,
   "metadata": {},
   "outputs": [
    {
     "name": "stdout",
     "output_type": "stream",
     "text": [
      "(1280,)\n"
     ]
    }
   ],
   "source": [
    "import numpy as np\n",
    "import random\n",
    "from scipy import sparse\n",
    "\n",
    "\n",
    "s = sparse.load_npz(\"npz1.npz\")\n",
    "\n",
    "v_num = s.shape[1]\n",
    "dim = 32\n",
    "\n",
    "vin = np.zeros((v_num, dim))\n",
    "\n",
    "n = 0\n",
    "for i in range(v_num):\n",
    "    for j in range(dim):\n",
    "        vin[i, j] = n\n",
    "        n += 1\n",
    "\n",
    "vout = s * vin\n",
    "\n",
    "vout = np.asarray(vout).reshape(-1).astype(np.float32)\n",
    "\n",
    "print(vout.shape)\n",
    "vout.tofile('vout.bin')\n",
    "\n",
    "pass"
   ]
  }
 ],
 "metadata": {
  "kernelspec": {
   "display_name": "base",
   "language": "python",
   "name": "python3"
  },
  "language_info": {
   "codemirror_mode": {
    "name": "ipython",
    "version": 3
   },
   "file_extension": ".py",
   "mimetype": "text/x-python",
   "name": "python",
   "nbconvert_exporter": "python",
   "pygments_lexer": "ipython3",
   "version": "3.9.13"
  },
  "orig_nbformat": 4,
  "vscode": {
   "interpreter": {
    "hash": "469243ab20407e57558689006f6d4eae7f42320abb998cfdabf79e61ec7f00ef"
   }
  }
 },
 "nbformat": 4,
 "nbformat_minor": 2
}
