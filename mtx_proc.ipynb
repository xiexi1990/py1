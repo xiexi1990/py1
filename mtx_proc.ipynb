{
 "cells": [
  {
   "cell_type": "code",
   "execution_count": 4,
   "metadata": {},
   "outputs": [],
   "source": [
    "import numpy as np\n",
    "from scipy import sparse\n",
    "# s = np.load('npz1.npz')\n",
    "\n",
    "s = sparse.load_npz(\"npz1.npz\")\n",
    "\n",
    "csr_ptr = s.indptr\n",
    "coo_row = np.zeros(120)\n",
    "r = 0\n",
    "k = 0\n",
    "for i in range(40):\n",
    "    for j in range(csr_ptr[i+1] - csr_ptr[i]):\n",
    "        coo_row[k] = r\n",
    "        k += 1\n",
    "    r += 1\n",
    "    \n",
    "coo = s.tocoo()\n",
    "\n",
    "\n",
    "# data = coo.data.astype(np.float32)\n",
    "# data.tofile('data.bin')\n",
    "\n",
    "coo_row = coo.row.astype(np.int32)\n",
    "coo_row.tofile('coo_row.bin')\n",
    "\n",
    "indptr = s.indptr.astype(np.int32)\n",
    "indptr.tofile('indptr.bin')\n",
    "\n",
    "# indices = coo.col.astype(np.int32)\n",
    "# indices.tofile('indices.bin')\n",
    "\n",
    "\n",
    "pass\n",
    "\n"
   ]
  }
 ],
 "metadata": {
  "kernelspec": {
   "display_name": "base",
   "language": "python",
   "name": "python3"
  },
  "language_info": {
   "codemirror_mode": {
    "name": "ipython",
    "version": 3
   },
   "file_extension": ".py",
   "mimetype": "text/x-python",
   "name": "python",
   "nbconvert_exporter": "python",
   "pygments_lexer": "ipython3",
   "version": "3.9.13"
  },
  "orig_nbformat": 4,
  "vscode": {
   "interpreter": {
    "hash": "469243ab20407e57558689006f6d4eae7f42320abb998cfdabf79e61ec7f00ef"
   }
  }
 },
 "nbformat": 4,
 "nbformat_minor": 2
}
